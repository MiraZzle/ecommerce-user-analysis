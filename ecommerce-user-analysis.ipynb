{
 "cells": [
  {
   "cell_type": "markdown",
   "metadata": {},
   "source": [
    "# Analýza uživatelů ecommerce pro doporučování produktů\n",
    "#### Autor: Matěj Foukal\n",
    "\n",
    "## Původ a struktura dat\n",
    "Data byla nashromážděna v průběhu 2 měsíců zakladateli startupové společnosti. Byla shromážděna pro účely výzkumu a implementace personalizačních strategií v ecommerce. Celý dataset je veřejně dostupný na stránkách [kaggle.com](https://www.kaggle.com/datasets/kartikeybartwal/ecommerce-product-recommendation-collaborative/data). Na datech si vyzkoušíme různé techniky vizualizace dat, testování hypotéz a lineární regresi."
   ]
  },
  {
   "cell_type": "code",
   "execution_count": null,
   "metadata": {},
   "outputs": [],
   "source": [
    "import numpy as np\n",
    "import matplotlib.pyplot as plt\n",
    "import seaborn as sns\n",
    "import pandas as pd\n",
    "from scipy import stats\n",
    "from sklearn.linear_model import LinearRegression\n",
    "from sklearn.model_selection import train_test_split"
   ]
  },
  {
   "cell_type": "markdown",
   "metadata": {},
   "source": [
    "## Příprava dat a deskriptivní statistiky proměnných\n",
    "Pro lepší porozumění dat, která máme k dispozici, je nejprve popíšeme pomocí statistik dostupných proměnných. Pro lepší porozumění toho, kdo jsou naši uživatelé, vizualizujeme jejich demografické údaje."
   ]
  },
  {
   "cell_type": "code",
   "execution_count": null,
   "metadata": {},
   "outputs": [],
   "source": [
    "data = pd.read_csv(\"user_personalized_features.csv\")\n",
    "\n",
    "# Zobrazení základních informací o datech\n",
    "print(data.info())\n",
    "print(data.describe())\n",
    "\n",
    "age_mean = data['Age'].mean()\n",
    "income_mean = data['Income'].mean()\n",
    "total_spending_mean = data['Total_Spending'].mean()"
   ]
  },
  {
   "cell_type": "markdown",
   "metadata": {},
   "source": [
    "## Vizualiazace"
   ]
  },
  {
   "cell_type": "markdown",
   "metadata": {},
   "source": [
    "## Testování hypotéz\n",
    "Otestujeme následující tři hypotézy:\n",
    "1. Vliv lokality uživatelů (suburban, rural, urban) na hodnotu objednávky:\n",
    "   - Null hypothesis (H0): Průměrná hodnota objednávky je stejná pro všechny tři lokality.\n",
    "   - Alternative hypothesis (H1): Průměrná hodnota objednávky se liší mezi lokalitami.\n",
    "2. Vliv zájmů na frekvenci nákupů:\n",
    "   - Null hypothesis (H0): Zájmy uživatelů nemají vliv na frekvenci nákupů.\n",
    "   - Alternative hypothesis (H1): Zájmy uživatelů mají vliv na frekvenci nákupů."
   ]
  },
  {
   "cell_type": "markdown",
   "metadata": {},
   "source": [
    "## Korelace\n",
    "1. Zjistíme, zda uživatelé, kteří nakupují častěji (Purchase_Frequency), mají nižší nebo vyšší průměrnou hodnotu objednávky (Average_Order_Value).\n",
    "2. Zjistíme, zda vyšší příjem (Income) souvisí s vyššími celkovými výdaji (Total_Spending)."
   ]
  },
  {
   "cell_type": "markdown",
   "metadata": {},
   "source": [
    "## Lineární regrese"
   ]
  },
  {
   "cell_type": "markdown",
   "metadata": {},
   "source": [
    "## Interpretace výsledků a jejich zužitkování"
   ]
  }
 ],
 "metadata": {
  "kernelspec": {
   "display_name": ".venv",
   "language": "python",
   "name": "python3"
  },
  "language_info": {
   "codemirror_mode": {
    "name": "ipython",
    "version": 3
   },
   "file_extension": ".py",
   "mimetype": "text/x-python",
   "name": "python",
   "nbconvert_exporter": "python",
   "pygments_lexer": "ipython3",
   "version": "3.12.3"
  }
 },
 "nbformat": 4,
 "nbformat_minor": 2
}
