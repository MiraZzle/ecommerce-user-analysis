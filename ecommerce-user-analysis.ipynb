{
 "cells": [
  {
   "cell_type": "markdown",
   "metadata": {},
   "source": [
    "# Analýza uživatelů ecommerce pro doporučování produktů\n",
    "#### Autor: Matěj Foukal\n",
    "\n",
    "## Původ a struktura dat\n",
    "Data byla nashromážděna v průběhu 2 měsíců zakladateli startupové společnosti. Byla shromážděna pro účely výzkumu a implementace personalizačních strategií v ecommerce. Celý dataset je veřejně dostupný na stránkách [kaggle.com](https://www.kaggle.com/datasets/kartikeybartwal/ecommerce-product-recommendation-collaborative/data). Na datech si vyzkoušíme různé techniky vizualizace dat, testování hypotéz a lineární regresi."
   ]
  },
  {
   "cell_type": "code",
   "execution_count": 2,
   "metadata": {},
   "outputs": [],
   "source": [
    "import numpy as np\n",
    "import matplotlib.pyplot as plt\n",
    "import seaborn as sns\n",
    "import pandas as pd\n",
    "from scipy import stats\n",
    "from sklearn.linear_model import LinearRegression\n",
    "from sklearn.model_selection import train_test_split"
   ]
  },
  {
   "cell_type": "markdown",
   "metadata": {},
   "source": [
    "## Příprava dat a deskriptivní statistiky proměnných\n",
    "Pro lepší porozumění dat, která máme k dispozici, je nejprve popíšeme pomocí statistik dostupných proměnných."
   ]
  },
  {
   "cell_type": "code",
   "execution_count": 3,
   "metadata": {},
   "outputs": [
    {
     "name": "stdout",
     "output_type": "stream",
     "text": [
      "<class 'pandas.core.frame.DataFrame'>\n",
      "RangeIndex: 1000 entries, 0 to 999\n",
      "Data columns (total 15 columns):\n",
      " #   Column                       Non-Null Count  Dtype \n",
      "---  ------                       --------------  ----- \n",
      " 0   Unnamed: 0                   1000 non-null   int64 \n",
      " 1   User_ID                      1000 non-null   object\n",
      " 2   Age                          1000 non-null   int64 \n",
      " 3   Gender                       1000 non-null   object\n",
      " 4   Location                     1000 non-null   object\n",
      " 5   Income                       1000 non-null   int64 \n",
      " 6   Interests                    1000 non-null   object\n",
      " 7   Last_Login_Days_Ago          1000 non-null   int64 \n",
      " 8   Purchase_Frequency           1000 non-null   int64 \n",
      " 9   Average_Order_Value          1000 non-null   int64 \n",
      " 10  Total_Spending               1000 non-null   int64 \n",
      " 11  Product_Category_Preference  1000 non-null   object\n",
      " 12  Time_Spent_on_Site_Minutes   1000 non-null   int64 \n",
      " 13  Pages_Viewed                 1000 non-null   int64 \n",
      " 14  Newsletter_Subscription      1000 non-null   bool  \n",
      "dtypes: bool(1), int64(9), object(5)\n",
      "memory usage: 110.5+ KB\n",
      "None\n",
      "        Unnamed: 0          Age         Income  Last_Login_Days_Ago  \\\n",
      "count  1000.000000  1000.000000    1000.000000          1000.000000   \n",
      "mean    499.500000    40.986000   81304.732000            15.586000   \n",
      "std     288.819436    13.497852   37363.972753             8.205604   \n",
      "min       0.000000    18.000000   20155.000000             1.000000   \n",
      "25%     249.750000    29.000000   48715.500000             8.000000   \n",
      "50%     499.500000    42.000000   81042.000000            16.000000   \n",
      "75%     749.250000    52.000000  112694.500000            23.000000   \n",
      "max     999.000000    64.000000  149951.000000            29.000000   \n",
      "\n",
      "       Purchase_Frequency  Average_Order_Value  Total_Spending  \\\n",
      "count         1000.000000          1000.000000     1000.000000   \n",
      "mean             4.631000           104.039000     2552.957000   \n",
      "std              2.837762            54.873569     1420.985048   \n",
      "min              0.000000            10.000000      112.000000   \n",
      "25%              2.000000            58.000000     1271.750000   \n",
      "50%              5.000000           105.000000     2542.000000   \n",
      "75%              7.000000           150.000000     3835.500000   \n",
      "max              9.000000           199.000000     4999.000000   \n",
      "\n",
      "       Time_Spent_on_Site_Minutes  Pages_Viewed  \n",
      "count                 1000.000000    1000.00000  \n",
      "mean                   297.360000      24.40300  \n",
      "std                    175.596123      14.02017  \n",
      "min                      2.000000       1.00000  \n",
      "25%                    144.000000      12.00000  \n",
      "50%                    292.500000      24.50000  \n",
      "75%                    449.250000      36.00000  \n",
      "max                    599.000000      49.00000  \n"
     ]
    }
   ],
   "source": [
    "data = pd.read_csv(\"user_personalized_features.csv\")\n",
    "\n",
    "# Zobrazení základních informací o datech\n",
    "print(data.info())\n",
    "print(data.describe())"
   ]
  },
  {
   "cell_type": "markdown",
   "metadata": {},
   "source": [
    "## Vizualiazace"
   ]
  },
  {
   "cell_type": "markdown",
   "metadata": {},
   "source": [
    "## Testování hypotéz"
   ]
  },
  {
   "cell_type": "markdown",
   "metadata": {},
   "source": [
    "## Lineární regrese"
   ]
  },
  {
   "cell_type": "markdown",
   "metadata": {},
   "source": [
    "## Interpretace výsledků a jejich zužitkování"
   ]
  }
 ],
 "metadata": {
  "kernelspec": {
   "display_name": ".venv",
   "language": "python",
   "name": "python3"
  },
  "language_info": {
   "codemirror_mode": {
    "name": "ipython",
    "version": 3
   },
   "file_extension": ".py",
   "mimetype": "text/x-python",
   "name": "python",
   "nbconvert_exporter": "python",
   "pygments_lexer": "ipython3",
   "version": "3.12.3"
  }
 },
 "nbformat": 4,
 "nbformat_minor": 2
}
