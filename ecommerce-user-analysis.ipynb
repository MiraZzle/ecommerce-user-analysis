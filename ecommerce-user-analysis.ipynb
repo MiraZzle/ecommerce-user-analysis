{
 "cells": [
  {
   "cell_type": "markdown",
   "metadata": {},
   "source": [
    "# Analýza uživatelů ecommerce pro doporučování produktů\n",
    "#### Autor: Matěj Foukal\n",
    "\n",
    "## Původ a struktura dat\n",
    "Data byla nashromážděna v průběhu 2 měsíců zakladateli startupové společnosti. Byla shromážděna pro účely výzkumu a implementace personalizačních strategií v ecommerce. Celý dataset je veřejně dostupný na stránkách [kaggle.com](https://www.kaggle.com/datasets/kartikeybartwal/ecommerce-product-recommendation-collaborative/data). Na datech si vyzkoušíme různé techniky vizualizace dat, testování hypotéz a lineární regresi."
   ]
  },
  {
   "cell_type": "code",
   "execution_count": null,
   "metadata": {},
   "outputs": [],
   "source": [
    "# Naimportujeme potřebné knihovny\n",
    "import numpy as np\n",
    "import matplotlib.pyplot as plt\n",
    "import seaborn as sns\n",
    "import pandas as pd\n",
    "from scipy import stats\n",
    "from sklearn.linear_model import LinearRegression\n",
    "from sklearn.model_selection import train_test_split"
   ]
  },
  {
   "cell_type": "markdown",
   "metadata": {},
   "source": [
    "## Příprava dat a deskriptivní statistiky proměnných\n",
    "Pro lepší porozumění dat, která máme k dispozici, je nejprve popíšeme pomocí statistik dostupných proměnných. Pro lepší porozumění toho, kdo jsou naši uživatelé, vizualizujeme jejich demografické údaje. Podíváme se na souvislost mezi věkem a příjmy našich uživatelů."
   ]
  },
  {
   "cell_type": "code",
   "execution_count": null,
   "metadata": {},
   "outputs": [],
   "source": [
    "# Načtení dat\n",
    "data = pd.read_csv(\"user_personalized_features.csv\")\n",
    "\n",
    "# Zobrazení dat pro věk uživatelů - klasický histogram s 8 biny\n",
    "plt.figure(figsize=(10, 6))\n",
    "sns.histplot(data[\"Age\"], bins=8, kde=False)\n",
    "plt.title(\"Histogram věku uživatelů\")\n",
    "plt.xlabel(\"Věk\")\n",
    "plt.ylabel(\"Počet uživatelů\")\n",
    "plt.show()"
   ]
  },
  {
   "cell_type": "code",
   "execution_count": null,
   "metadata": {},
   "outputs": [],
   "source": [
    "# Souvislost mezi věkem a příjmem\n",
    "plt.figure(figsize=(14, 8))\n",
    "sns.lineplot(x=\"Age\", y=\"Income\", data=data, errorbar=None)\n",
    "plt.title(\"Závislost příjmu na věku\")\n",
    "plt.xlabel(\"Věk\")\n",
    "plt.ylabel(\"Příjem\")\n",
    "plt.show()"
   ]
  },
  {
   "cell_type": "markdown",
   "metadata": {},
   "source": [
    "## Korelace\n",
    "### 1.  Zjistíme, zda uživatelé, kteří nakupují častěji (Purchase_Frequency), mají nižší nebo vyšší průměrnou hodnotu objednávky (Average_Order_Value).\n",
    "Tímto testem budeme sledujeme, zda existuje korelace mezi frekvencí nákupů a průměrnou hodnotou nákupu uživatele."
   ]
  },
  {
   "cell_type": "code",
   "execution_count": null,
   "metadata": {},
   "outputs": [],
   "source": [
    "# 1. Korelace mezi frekvencí nákupů a průměrnou hodnotou objednávky\n",
    "corr_freq_order_value, p_value_freq_order_value = stats.pearsonr(\n",
    "    data[\"Purchase_Frequency\"], data[\"Average_Order_Value\"]\n",
    ")\n",
    "print(\n",
    "    f\"Korelace mezi frekvencí nákupů a průměrnou hodnotou objednávky: {corr_freq_order_value:.2f} (p-hodnota: {p_value_freq_order_value:.2e})\"\n",
    ")\n",
    "\n",
    "# Vizualizace závislosti s hexbin plotem\n",
    "plt.figure(figsize=(10, 6))\n",
    "sns.jointplot(\n",
    "    x=\"Purchase_Frequency\",\n",
    "    y=\"Average_Order_Value\",\n",
    "    data=data,\n",
    "    kind=\"scatter\",\n",
    "    marginal_kws=dict(bins=30, fill=True),\n",
    ")\n",
    "plt.suptitle(\"Závislost mezi frekvencí nákupů a průměrnou hodnotou objednávky\", y=1.02)\n",
    "plt.show()"
   ]
  },
  {
   "cell_type": "markdown",
   "metadata": {},
   "source": [
    "### 2. Zjistíme, zda vyšší příjem (Income) souvisí s vyššími celkovými výdaji (Total_Spending)."
   ]
  },
  {
   "cell_type": "code",
   "execution_count": null,
   "metadata": {},
   "outputs": [],
   "source": [
    "# 2. Korelace mezi příjmem a celkovými výdaji\n",
    "corr_income_spending, p_value_income_spending = stats.pearsonr(\n",
    "    data[\"Income\"], data[\"Total_Spending\"]\n",
    ")\n",
    "print(\n",
    "    f\"Korelace mezi příjmem a celkovými výdaji: {corr_income_spending:.2f} (p-hodnota: {p_value_income_spending:.2e})\"\n",
    ")\n",
    "\n",
    "# Vizualizace závislosti s regresní přímkou\n",
    "plt.figure(figsize=(10, 6))\n",
    "sns.regplot(x=\"Income\", y=\"Total_Spending\", data=data, line_kws={\"color\": \"red\"})\n",
    "plt.title(\"Závislost mezi příjmem a celkovými výdaji\")\n",
    "plt.xlabel(\"Příjem\")\n",
    "plt.ylabel(\"Celkové výdaje\")\n",
    "plt.show()"
   ]
  },
  {
   "cell_type": "markdown",
   "metadata": {},
   "source": [
    "## Testování hypotéz\n",
    "Otestujeme následující dvě hypotézy:\n",
    "1. ### Vliv lokality uživatelů (suburban, rural, urban) na hodnotu objednávky:\n",
    "   - Nulová hypotéza (H0): Průměrná hodnota objednávky je stejná pro všechny tři lokality.\n",
    "   - Alternativní hypotéza (H1): Průměrná hodnota objednávky se liší mezi lokalitami."
   ]
  },
  {
   "cell_type": "code",
   "execution_count": null,
   "metadata": {},
   "outputs": [],
   "source": [
    "# Funkce pro provedení t-testu mezi dvěma lokalitami\n",
    "def t_test_location(data, location1, location2):\n",
    "    group1 = data[data[\"Location\"] == location1][\"Average_Order_Value\"]\n",
    "    group2 = data[data[\"Location\"] == location2][\"Average_Order_Value\"]\n",
    "    t_stat, p_value = stats.ttest_ind(group1, group2)\n",
    "    return t_stat, p_value\n",
    "\n",
    "\n",
    "# Párové t-testy\n",
    "locations = [\"Suburban\", \"Rural\", \"Urban\"]\n",
    "alpha = 0.05\n",
    "\n",
    "for i in range(len(locations)):\n",
    "    for j in range(i + 1, len(locations)):\n",
    "        loc1, loc2 = locations[i], locations[j]\n",
    "        t_stat, p_value = t_test_location(data, loc1, loc2)\n",
    "        print(\n",
    "            f\"T-test mezi {loc1} a {loc2}: t-statistic = {t_stat:.4f}, p-value = {p_value:.4f}\"\n",
    "        )\n",
    "        if p_value < alpha:\n",
    "            print(f\"Pro lokality '{loc1}' a '{loc2}' zamítáme nulovou hypotézu (H0).\")\n",
    "        else:\n",
    "            print(\n",
    "                f\"Nulová hypotéza (H0) pro lokality '{loc1}' a '{loc2}' není zamítnuta.\"\n",
    "            )\n",
    "\n",
    "# Vizualizace\n",
    "plt.figure(figsize=(10, 6))\n",
    "sns.boxplot(x=\"Location\", y=\"Average_Order_Value\", data=data)\n",
    "plt.title(\"Vliv lokality na hodnotu objednávky\")\n",
    "plt.xlabel(\"Lokalita\")\n",
    "plt.ylabel(\"Průměrná hodnota objednávky\")\n",
    "plt.show()"
   ]
  },
  {
   "cell_type": "markdown",
   "metadata": {},
   "source": [
    "2. ### Vliv zájmů na frekvenci nákupů:\n",
    "   - Nulová hypotéza (H0) Zájmy uživatelů nemají vliv na frekvenci nákupů.\n",
    "   - Alternativní hypotéza (H1): Zájmy uživatelů mají vliv na frekvenci nákupů."
   ]
  },
  {
   "cell_type": "code",
   "execution_count": null,
   "metadata": {},
   "outputs": [],
   "source": [
    "# Vytvoření binárních proměnných pro zájmy\n",
    "interests_dummies = data[\"Interests\"].str.get_dummies(sep=\",\")\n",
    "\n",
    "# Přidáme frekvenci nákupů k binárním proměnným\n",
    "interests_dummies[\"Purchase_Frequency\"] = data[\"Purchase_Frequency\"]\n",
    "\n",
    "\n",
    "# Funkce pro provedení t-testu pro zájem\n",
    "def t_test_interest(interests_dummies, interest):\n",
    "    group1 = interests_dummies[interests_dummies[interest] == 1][\"Purchase_Frequency\"]\n",
    "    group2 = interests_dummies[interests_dummies[interest] == 0][\"Purchase_Frequency\"]\n",
    "    t_stat, p_value = stats.ttest_ind(group1, group2)\n",
    "    return t_stat, p_value\n",
    "\n",
    "\n",
    "# Testování hypotézy pro každý zájem\n",
    "alpha = 0.05\n",
    "for interest in interests_dummies.columns[:-1]:\n",
    "    t_stat, p_value = t_test_interest(interests_dummies, interest)\n",
    "    print(\n",
    "        f\"Interest: {interest} - T-test: t-statistic = {t_stat:.4f}, p-value = {p_value:.4f}\"\n",
    "    )\n",
    "    if p_value < alpha:\n",
    "        print(f\"Pro zájem '{interest}' zamítáme nulovou hypotézu (H0).\")\n",
    "    else:\n",
    "        print(\n",
    "            f\"Nulová hypotéza (H0) pro zájem '{interest}' není zamítnuta.\"\n",
    "        )\n",
    "\n",
    "\n",
    "# Vizualizace pro první zájem (pouze jako příklad)\n",
    "first_interest = interests_dummies.columns[0]\n",
    "plt.figure(figsize=(10, 6))\n",
    "sns.boxplot(\n",
    "    x=interests_dummies[first_interest], y=interests_dummies[\"Purchase_Frequency\"]\n",
    ")\n",
    "plt.title(f\"Vliv zájmu '{first_interest}' na frekvenci nákupů\")\n",
    "plt.xlabel(f\"Zájem '{first_interest}'\")\n",
    "plt.ylabel(\"Frekvence nákupů\")\n",
    "plt.show()"
   ]
  },
  {
   "cell_type": "markdown",
   "metadata": {},
   "source": [
    "## Interpretace výsledků a jejich zužitkování"
   ]
  }
 ],
 "metadata": {
  "kernelspec": {
   "display_name": ".venv",
   "language": "python",
   "name": "python3"
  },
  "language_info": {
   "codemirror_mode": {
    "name": "ipython",
    "version": 3
   },
   "file_extension": ".py",
   "mimetype": "text/x-python",
   "name": "python",
   "nbconvert_exporter": "python",
   "pygments_lexer": "ipython3",
   "version": "3.12.3"
  }
 },
 "nbformat": 4,
 "nbformat_minor": 2
}
