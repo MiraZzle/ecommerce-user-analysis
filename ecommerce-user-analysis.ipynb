{
 "cells": [
  {
   "cell_type": "markdown",
   "metadata": {},
   "source": [
    "# Analýza uživatelů ecommerce pro doporučování produktů\n",
    "#### Autor: Matěj Foukal\n",
    "\n",
    "## Původ a struktura dat\n",
    "Data byla nashromážděna v průběhu 2 měsíců zakladateli startupové společnosti. Byla shromážděna pro účely výzkumu a implementace personalizačních strategií v ecommerce. Celý dataset je veřejně dostupný na stránkách [kaggle.com](https://www.kaggle.com/datasets/kartikeybartwal/ecommerce-product-recommendation-collaborative/data). Na datech si vyzkoušíme různé techniky vizualizace dat, testování hypotéz a lineární regresi."
   ]
  },
  {
   "cell_type": "code",
   "execution_count": null,
   "metadata": {
    "vscode": {
     "languageId": "plaintext"
    }
   },
   "outputs": [],
   "source": []
  }
 ],
 "metadata": {
  "language_info": {
   "name": "python"
  }
 },
 "nbformat": 4,
 "nbformat_minor": 2
}
